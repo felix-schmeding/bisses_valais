{
 "cells": [
  {
   "cell_type": "code",
   "execution_count": 1,
   "id": "0bb527ce",
   "metadata": {},
   "outputs": [],
   "source": [
    "# importing required libraries\n",
    "import dash\n",
    "from dash import dcc\n",
    "import dash_bootstrap_components as dbc\n",
    "from dash import html\n",
    "from dash.dependencies import Input, Output\n",
    "\n",
    "import plotly.graph_objects as go\n",
    "\n",
    "import json\n",
    "import os\n",
    "from glob import glob\n",
    "from pathlib import Path\n",
    "import pandas as pd\n",
    "\n",
    "import src.plotlyplot as plot\n",
    "import src.elevation as elevation"
   ]
  },
  {
   "cell_type": "code",
   "execution_count": 2,
   "id": "c40fa606",
   "metadata": {},
   "outputs": [],
   "source": [
    "fig_height_point = 150\n",
    "fig_height_sec = 150"
   ]
  },
  {
   "cell_type": "code",
   "execution_count": 3,
   "id": "09442558",
   "metadata": {},
   "outputs": [],
   "source": [
    "liste_multi = [\"Panneaux\", \"Usages\", \"Revetement\"]\n",
    "liste_bisses = [\"Clavau\", \"Sion\", \"Grand bisse d'Ayent\"]"
   ]
  },
  {
   "cell_type": "code",
   "execution_count": 4,
   "id": "d0d8c7ce",
   "metadata": {},
   "outputs": [],
   "source": [
    "bisses_dict = {}\n",
    "selected_bisse_json = {}\n",
    "data_plot = {}\n",
    "elevation_profile = (\n",
    "    None  # df of elevation profile, so no need to load it again at each update\n",
    ")\n",
    "range_el = []  # will be len 2\n",
    "\n",
    "\n",
    "def get_list_bisse():\n",
    "    global bisses_dict\n",
    "\n",
    "    data = \"data\"\n",
    "    PATH = os.path.join(data, \"bisses\")\n",
    "\n",
    "    # get all json of bisse\n",
    "    # folders = [f.path for f in os.scandir(PATH) if f.is_dir()]\n",
    "    # files = [y for x in os.walk(PATH) for y in glob(os.path.join(x[0], \"*.json\"))]\n",
    "    # filenames = [Path(path).stem for path in files]\n",
    "\n",
    "    files = []\n",
    "    filenames = []\n",
    "\n",
    "    for item in os.scandir(PATH):\n",
    "        if item.is_dir():\n",
    "            for file in os.scandir(item):\n",
    "                if file.name.endswith(\".json\"):\n",
    "                    files.append(os.path.split(file.path)[0])\n",
    "                    filenames.append(file.name)\n",
    "\n",
    "    print(files)\n",
    "    print(filenames)\n",
    "\n",
    "    # ! check if file is missing for a folder\n",
    "    # all bisse where data has been collected in a json\n",
    "    dic = dict(zip(filenames, files))\n",
    "    bisses_dict = dic\n",
    "    return dic.keys()\n",
    "\n",
    "\n",
    "def get_list_ind(bisse):\n",
    "    global data_plot\n",
    "\n",
    "    PATH = bisses_dict[bisse]\n",
    "\n",
    "    couche_liste = [\n",
    "        \"environnement\",\n",
    "        \"touristique\",\n",
    "        \"social\",\n",
    "        \"patrimoine\",\n",
    "        \"hydrologique\",\n",
    "    ]\n",
    "\n",
    "    all_json = {}\n",
    "    for couche in couche_liste:\n",
    "        try:\n",
    "            with open(os.path.join(PATH, couche, \"plot.json\"), \"r\") as file:\n",
    "                plot_json = json.load(file)\n",
    "                all_json.update(plot_json)\n",
    "                # print(plot_env)\n",
    "        except FileNotFoundError:\n",
    "            print(\"No plotfile for couche \" + couche)\n",
    "\n",
    "    data_plot = all_json\n",
    "    return [\n",
    "        {\"label\": entry[\"nom_indice\"], \"value\": key} for key, entry in all_json.items()\n",
    "    ]"
   ]
  },
  {
   "cell_type": "code",
   "execution_count": 5,
   "id": "9f54d5e5",
   "metadata": {},
   "outputs": [],
   "source": [
    "# app = dash.Dash()\n",
    "app = dash.Dash(external_stylesheets=[dbc.themes.BOOTSTRAP])"
   ]
  },
  {
   "cell_type": "code",
   "execution_count": 6,
   "id": "c6bfdc31",
   "metadata": {},
   "outputs": [],
   "source": [
    "def get_cc_graph(x_trucks=[5, 4, 7, 4, 8], y_ships=[6, 3, 5, 3, 7], id=\"id\"):\n",
    "    return dcc.Graph(\n",
    "        id=id,\n",
    "        figure={\n",
    "            \"data\": [\n",
    "                {\n",
    "                    \"x\": [1, 2, 3, 4, 5],\n",
    "                    \"y\": x_trucks,\n",
    "                    \"type\": \"line\",\n",
    "                    \"name\": \"Trucks\",\n",
    "                },\n",
    "                {\n",
    "                    \"x\": [1, 2, 3, 4, 5],\n",
    "                    \"y\": y_ships,\n",
    "                    \"type\": \"bar\",\n",
    "                    \"name\": \"Ships\",\n",
    "                },\n",
    "            ],\n",
    "            \"layout\": {\"title\": \"Basic Dashboard\"},\n",
    "        },\n",
    "    )"
   ]
  },
  {
   "cell_type": "code",
   "execution_count": 7,
   "id": "a38ca6ae",
   "metadata": {},
   "outputs": [
    {
     "name": "stdout",
     "output_type": "stream",
     "text": [
      "['data\\\\bisses\\\\clavau']\n",
      "['clavau.json']\n"
     ]
    }
   ],
   "source": [
    "button = html.Button(children=\"Button\")\n",
    "\n",
    "col_selection = html.Div(\n",
    "    [\n",
    "        html.Div(\n",
    "            [\n",
    "                html.H3(children=\"Selections\"),\n",
    "                html.Div(children=\"Bisse: \"),\n",
    "                dcc.Dropdown(\n",
    "                    id=\"bisse_dd\",\n",
    "                    options=[{\"label\": m, \"value\": m} for m in get_list_bisse()],\n",
    "                    multi=False,  # Or set to False\n",
    "                    clearable=True,\n",
    "                    disabled=False,\n",
    "                ),\n",
    "                html.Div(children=\"Indicateurs: \"),\n",
    "                dcc.Dropdown(\n",
    "                    id=\"indicateur_dd\",\n",
    "                    multi=True,\n",
    "                    options=[{\"label\": m, \"value\": m} for m in liste_multi],\n",
    "                    clearable=True,\n",
    "                    disabled=False,\n",
    "                ),\n",
    "            ]\n",
    "        ),\n",
    "    ]\n",
    ")\n",
    "\n",
    "col_profile = html.Div(\n",
    "    children=[get_cc_graph(id=\"1\"), get_cc_graph(id=\"2\"), get_cc_graph(id=\"3\")],\n",
    "    id=\"graph_list\",\n",
    ")\n",
    "\n",
    "\n",
    "col_val_uniques = html.Div(\n",
    "    children=[\n",
    "        dcc.Input(id=\"input\", value=\"Enter a number\", type=\"text\"),\n",
    "        html.Div(id=\"output\"),\n",
    "    ]\n",
    ")\n",
    "\n",
    "multi_fonction = html.Div(\n",
    "    [\n",
    "        dbc.Row(\n",
    "            [\n",
    "                html.H1(\n",
    "                    \"Nom du Bisse\",\n",
    "                    style={\"textAlign\": \"center\", \"color\": \"red\", \"fontSize\": 40},\n",
    "                )\n",
    "            ]\n",
    "        ),\n",
    "        dbc.Row(\n",
    "            [\n",
    "                dbc.Col(col_selection, width=2),\n",
    "                dbc.Col(col_profile, width=8),\n",
    "                dbc.Col(col_val_uniques, width=2),\n",
    "            ]\n",
    "        ),\n",
    "    ]\n",
    ")"
   ]
  },
  {
   "cell_type": "code",
   "execution_count": 8,
   "id": "8375794e",
   "metadata": {},
   "outputs": [],
   "source": [
    "@app.callback(\n",
    "    Output(component_id=\"output\", component_property=\"children\"),\n",
    "    [Input(component_id=\"input\", component_property=\"value\")],\n",
    ")\n",
    "def update_value(input_data):\n",
    "    try:\n",
    "        return str(float(input_data) ** 2)\n",
    "    except:\n",
    "        return \"Error, the input is not a number\"\n",
    "\n",
    "\n",
    "@app.callback(\n",
    "    Output(component_id=\"indicateur_dd\", component_property=\"options\"),\n",
    "    [Input(component_id=\"bisse_dd\", component_property=\"value\")],\n",
    ")\n",
    "def update_list_ind(input_data):\n",
    "    global elevation_profile, selected_bisse_json, range_el\n",
    "\n",
    "    # handle at start up\n",
    "    if input_data == None:\n",
    "        return []\n",
    "    # load bisses json\n",
    "    # print(\"Filename of bisse json\")\n",
    "    # print(bisses_dict[input_data] + input_data)\n",
    "    with open(bisses_dict[input_data] + \"\\\\\" + input_data, \"r\") as file:\n",
    "        selected_bisse_json = json.load(file)\n",
    "    # calculate elevation profile when new bisse is selected\n",
    "\n",
    "    elevation_profile = elevation.get_elevation_from_inventaire(\n",
    "        selected_bisse_json[\"nom_inventaire\"]\n",
    "    )\n",
    "\n",
    "    range_el = [elevation_profile[\"dist_m\"].min(), elevation_profile[\"dist_m\"].max()]\n",
    "    # return list of dcc graphs\n",
    "    return get_list_ind(input_data)\n",
    "\n",
    "\n",
    "@app.callback(\n",
    "    Output(component_id=\"graph_list\", component_property=\"children\"),\n",
    "    [Input(component_id=\"indicateur_dd\", component_property=\"value\")],\n",
    ")\n",
    "def update_graphs(input_data):\n",
    "    # is a list\n",
    "    graph_list = []\n",
    "    # handle at start up\n",
    "    if input_data == None:\n",
    "        return [get_cc_graph(id=\"1\"), get_cc_graph(id=\"2\"), get_cc_graph(id=\"3\")]\n",
    "    print(input_data)\n",
    "\n",
    "    figure_elevation = go.Figure()\n",
    "    plot.plot_elevation(figure_elevation, elevation_profile)\n",
    "\n",
    "    elevation_graph = dcc.Graph(\n",
    "        id=\"elevation_graph\", figure=figure_elevation, config=plot.general_config\n",
    "    )\n",
    "    graph_list.append(elevation_graph)\n",
    "\n",
    "    # plot.plot_elevation(axs[0], bisse_profile)\n",
    "    # axs[0].set_title(\"Profile d'élevation\")\n",
    "\n",
    "    for i, indicateur in enumerate(input_data):\n",
    "        # json of data to plot\n",
    "        indicateur_json = data_plot[indicateur]\n",
    "        data = pd.read_csv(indicateur_json[\"path\"])\n",
    "\n",
    "        new_fig = go.Figure()\n",
    "\n",
    "        display(indicateur_json)\n",
    "\n",
    "        if indicateur_json[\"type_donnee\"] == \"section\":\n",
    "            plot.plot_sections(new_fig, data, range_el, fig_height=fig_height_sec)\n",
    "        elif indicateur_json[\"type_donnee\"] == \"point\":\n",
    "            plot.plot_point_data(\n",
    "                new_fig,\n",
    "                data,\n",
    "                range_el=range_el,\n",
    "                fig_height=fig_height_point,\n",
    "                num_bins=50,\n",
    "            )\n",
    "        elif indicateur_json[\"type_donnee\"] == \"autre\":\n",
    "            print(\"can't find implementation of plot for that type of data\")\n",
    "        else:\n",
    "            print(\"Unknown data type\")\n",
    "\n",
    "        # ! do all styling here instead of in each plot function\n",
    "        #! or make a function on plotlyplot.py that applies the same configs to all figure\n",
    "\n",
    "        new_graph = dcc.Graph(\n",
    "            id=\"grap_\" + str(i),\n",
    "            figure=new_fig,\n",
    "            config=plot.general_config,\n",
    "        )\n",
    "        graph_list.append(new_graph)\n",
    "\n",
    "    # return list of dcc graphs\n",
    "    return graph_list"
   ]
  },
  {
   "cell_type": "markdown",
   "id": "81cb08d0",
   "metadata": {},
   "source": [
    "## Placeholders"
   ]
  },
  {
   "cell_type": "code",
   "execution_count": 9,
   "id": "6b85d6e2",
   "metadata": {},
   "outputs": [],
   "source": [
    "gestion_eau = html.Div(\n",
    "    children=[\n",
    "        html.H1(\"Dash Tutorial\"),\n",
    "        dcc.Graph(\n",
    "            id=\"example\",\n",
    "            figure={\n",
    "                \"data\": [\n",
    "                    {\n",
    "                        \"x\": [1, 2, 3, 4, 5],\n",
    "                        \"y\": [5, 4, 7, 4, 8],\n",
    "                        \"type\": \"line\",\n",
    "                        \"name\": \"Trucks\",\n",
    "                    },\n",
    "                    {\n",
    "                        \"x\": [1, 2, 3, 4, 5],\n",
    "                        \"y\": [6, 3, 5, 3, 7],\n",
    "                        \"type\": \"bar\",\n",
    "                        \"name\": \"Ships\",\n",
    "                    },\n",
    "                ],\n",
    "                \"layout\": {\"title\": \"Basic Dashboard\"},\n",
    "            },\n",
    "        ),\n",
    "    ]\n",
    ")\n",
    "\n",
    "inventaire = [\n",
    "    html.Div(\n",
    "        [\n",
    "            html.Div(\"Convert Temperature\"),\n",
    "            \"Celsius\",\n",
    "            dcc.Input(id=\"celsius-2\", value=0.0, type=\"number\"),\n",
    "            \" = Fahrenheit\",\n",
    "            dcc.Input(\n",
    "                id=\"fahrenheit-2\",\n",
    "                value=32.0,\n",
    "                type=\"number\",\n",
    "            ),\n",
    "        ]\n",
    "    ),\n",
    "]"
   ]
  },
  {
   "cell_type": "code",
   "execution_count": 10,
   "id": "18bec80a",
   "metadata": {},
   "outputs": [],
   "source": [
    "tab_pages = [\n",
    "    dcc.Tab(label=\"Multi-fonctio\", children=multi_fonction),\n",
    "    dcc.Tab(label=\"Gestion de l'eau\", children=gestion_eau),\n",
    "    dcc.Tab(label=\"Inventaire\", children=inventaire),\n",
    "]\n",
    "children = html.Div([dcc.Tabs(id=\"tabs\", children=tab_pages)])"
   ]
  },
  {
   "cell_type": "code",
   "execution_count": 11,
   "id": "e3f4e91a",
   "metadata": {},
   "outputs": [],
   "source": [
    "app.layout = children"
   ]
  },
  {
   "cell_type": "code",
   "execution_count": null,
   "id": "1ae199d8",
   "metadata": {},
   "outputs": [
    {
     "name": "stdout",
     "output_type": "stream",
     "text": [
      "Dash app running on http://127.0.0.1:8000/\n"
     ]
    },
    {
     "name": "stdout",
     "output_type": "stream",
     "text": [
      "No plotfile for couche social\n",
      "No plotfile for couche patrimoine\n",
      "No plotfile for couche hydrologique\n",
      "['biotope']\n"
     ]
    },
    {
     "data": {
      "text/plain": [
       "{'nom_indice': 'Biotopes',\n",
       " 'type_donnee': 'section',\n",
       " 'format_donnee': ['categorique'],\n",
       " 'drop_down': 'path/to/file',\n",
       " 'col': [['val_av', 'val_ap']],\n",
       " 'path': 'data\\\\bisses\\\\clavau\\\\environnement\\\\Biotopes\\\\biotope.csv'}"
      ]
     },
     "metadata": {},
     "output_type": "display_data"
    },
    {
     "name": "stdout",
     "output_type": "stream",
     "text": [
      "[]\n",
      "['didact']\n"
     ]
    },
    {
     "data": {
      "text/plain": [
       "{'nom_indice': 'Panneaux information',\n",
       " 'type_donnee': 'point',\n",
       " 'format_donnee': ['categorique'],\n",
       " 'drop_down': 'path/to/file',\n",
       " 'col': ['type'],\n",
       " 'path': 'data\\\\bisses\\\\clavau\\\\touristique\\\\Panneaux information\\\\didact.csv'}"
      ]
     },
     "metadata": {},
     "output_type": "display_data"
    },
    {
     "name": "stdout",
     "output_type": "stream",
     "text": [
      "['didact', 'biotope']\n"
     ]
    },
    {
     "data": {
      "text/plain": [
       "{'nom_indice': 'Panneaux information',\n",
       " 'type_donnee': 'point',\n",
       " 'format_donnee': ['categorique'],\n",
       " 'drop_down': 'path/to/file',\n",
       " 'col': ['type'],\n",
       " 'path': 'data\\\\bisses\\\\clavau\\\\touristique\\\\Panneaux information\\\\didact.csv'}"
      ]
     },
     "metadata": {},
     "output_type": "display_data"
    },
    {
     "data": {
      "text/plain": [
       "{'nom_indice': 'Biotopes',\n",
       " 'type_donnee': 'section',\n",
       " 'format_donnee': ['categorique'],\n",
       " 'drop_down': 'path/to/file',\n",
       " 'col': [['val_av', 'val_ap']],\n",
       " 'path': 'data\\\\bisses\\\\clavau\\\\environnement\\\\Biotopes\\\\biotope.csv'}"
      ]
     },
     "metadata": {},
     "output_type": "display_data"
    }
   ],
   "source": [
    "app.run(jupyter_mode=\"external\", port=8000)"
   ]
  }
 ],
 "metadata": {
  "kernelspec": {
   "display_name": "bisses",
   "language": "python",
   "name": "python3"
  },
  "language_info": {
   "codemirror_mode": {
    "name": "ipython",
    "version": 3
   },
   "file_extension": ".py",
   "mimetype": "text/x-python",
   "name": "python",
   "nbconvert_exporter": "python",
   "pygments_lexer": "ipython3",
   "version": "3.11.9"
  }
 },
 "nbformat": 4,
 "nbformat_minor": 5
}
