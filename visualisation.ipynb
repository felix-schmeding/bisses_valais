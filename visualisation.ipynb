{
 "cells": [
  {
   "cell_type": "code",
   "execution_count": 1,
   "id": "0bb527ce",
   "metadata": {},
   "outputs": [],
   "source": [
    "# importing required libraries\n",
    "import dash\n",
    "from dash import dcc\n",
    "import dash_bootstrap_components as dbc\n",
    "from dash import html\n",
    "from dash.dependencies import Input, Output"
   ]
  },
  {
   "cell_type": "code",
   "execution_count": 2,
   "id": "09442558",
   "metadata": {},
   "outputs": [],
   "source": [
    "liste_multi = [\"Panneaux\", \"Usages\", \"Revetement\"]\n",
    "liste_bisses = [\"Clavau\", \"Sion\", \"Grand bisse d'Ayent\"]"
   ]
  },
  {
   "cell_type": "code",
   "execution_count": null,
   "id": "9f54d5e5",
   "metadata": {},
   "outputs": [],
   "source": [
    "# app = dash.Dash()\n",
    "app = dash.Dash(external_stylesheets=[dbc.themes.BOOTSTRAP])"
   ]
  },
  {
   "cell_type": "code",
   "execution_count": 14,
   "id": "c6bfdc31",
   "metadata": {},
   "outputs": [],
   "source": [
    "def get_cc_graph(x_trucks=[5, 4, 7, 4, 8], y_ships=[6, 3, 5, 3, 7], id=\"id\"):\n",
    "    return dcc.Graph(\n",
    "        id=id,\n",
    "        figure={\n",
    "            \"data\": [\n",
    "                {\n",
    "                    \"x\": [1, 2, 3, 4, 5],\n",
    "                    \"y\": x_trucks,\n",
    "                    \"type\": \"line\",\n",
    "                    \"name\": \"Trucks\",\n",
    "                },\n",
    "                {\n",
    "                    \"x\": [1, 2, 3, 4, 5],\n",
    "                    \"y\": y_ships,\n",
    "                    \"type\": \"bar\",\n",
    "                    \"name\": \"Ships\",\n",
    "                },\n",
    "            ],\n",
    "            \"layout\": {\"title\": \"Basic Dashboard\"},\n",
    "        },\n",
    "    )"
   ]
  },
  {
   "cell_type": "code",
   "execution_count": null,
   "id": "a38ca6ae",
   "metadata": {},
   "outputs": [],
   "source": [
    "button = html.Button(children=\"Button\")\n",
    "\n",
    "col_selection = html.Div(\n",
    "    [\n",
    "        html.Div(\n",
    "            [\n",
    "                html.H3(children=\"Selections\"),\n",
    "                html.Div(children=\"Bisse: \"),\n",
    "                dcc.Dropdown(\n",
    "                    id=\"bisse_dd\",\n",
    "                    options=[{\"label\": m, \"value\": m} for m in liste_bisses],\n",
    "                    multi=False,  # Or set to False\n",
    "                    clearable=True,\n",
    "                    disabled=False,\n",
    "                ),\n",
    "                html.Div(children=\"Indicateurs: \"),\n",
    "                dcc.Dropdown(\n",
    "                    id=\"indicateur_dd\",\n",
    "                    multi=False,\n",
    "                    options=[{\"label\": m, \"value\": m} for m in liste_multi],\n",
    "                    clearable=True,\n",
    "                    disabled=False,\n",
    "                ),\n",
    "            ]\n",
    "        ),\n",
    "    ]\n",
    ")\n",
    "\n",
    "col_profile = html.Div(\n",
    "    children=[get_cc_graph(id=\"1\"), get_cc_graph(id=\"2\"), get_cc_graph(id=\"3\")]\n",
    ")\n",
    "\n",
    "\n",
    "col_val_uniques = html.Div(\n",
    "    children=[\n",
    "        dcc.Input(id=\"input\", value=\"Enter a number\", type=\"text\"),\n",
    "        html.Div(id=\"output\"),\n",
    "    ]\n",
    ")\n",
    "\n",
    "multi_fonction = html.Div(\n",
    "    [\n",
    "        dbc.Row(\n",
    "            [\n",
    "                dbc.Col(col_selection, width=3),\n",
    "                dbc.Col(col_profile, width=6),\n",
    "                dbc.Col(col_val_uniques, width=3),\n",
    "            ]\n",
    "        )\n",
    "    ]\n",
    ")"
   ]
  },
  {
   "cell_type": "code",
   "execution_count": 64,
   "id": "8375794e",
   "metadata": {},
   "outputs": [],
   "source": [
    "@app.callback(\n",
    "    Output(component_id=\"output\", component_property=\"children\"),\n",
    "    [Input(component_id=\"input\", component_property=\"value\")],\n",
    ")\n",
    "def update_value(input_data):\n",
    "    try:\n",
    "        return str(float(input_data) ** 2)\n",
    "    except:\n",
    "        return \"Error, the input is not a number\""
   ]
  },
  {
   "cell_type": "markdown",
   "id": "81cb08d0",
   "metadata": {},
   "source": [
    "## Placeholders"
   ]
  },
  {
   "cell_type": "code",
   "execution_count": 65,
   "id": "6b85d6e2",
   "metadata": {},
   "outputs": [],
   "source": [
    "gestion_eau = html.Div(\n",
    "    children=[\n",
    "        html.H1(\"Dash Tutorial\"),\n",
    "        dcc.Graph(\n",
    "            id=\"example\",\n",
    "            figure={\n",
    "                \"data\": [\n",
    "                    {\n",
    "                        \"x\": [1, 2, 3, 4, 5],\n",
    "                        \"y\": [5, 4, 7, 4, 8],\n",
    "                        \"type\": \"line\",\n",
    "                        \"name\": \"Trucks\",\n",
    "                    },\n",
    "                    {\n",
    "                        \"x\": [1, 2, 3, 4, 5],\n",
    "                        \"y\": [6, 3, 5, 3, 7],\n",
    "                        \"type\": \"bar\",\n",
    "                        \"name\": \"Ships\",\n",
    "                    },\n",
    "                ],\n",
    "                \"layout\": {\"title\": \"Basic Dashboard\"},\n",
    "            },\n",
    "        ),\n",
    "    ]\n",
    ")\n",
    "\n",
    "inventaire = [\n",
    "    html.Div(\n",
    "        [\n",
    "            html.Div(\"Convert Temperature\"),\n",
    "            \"Celsius\",\n",
    "            dcc.Input(id=\"celsius-2\", value=0.0, type=\"number\"),\n",
    "            \" = Fahrenheit\",\n",
    "            dcc.Input(\n",
    "                id=\"fahrenheit-2\",\n",
    "                value=32.0,\n",
    "                type=\"number\",\n",
    "            ),\n",
    "        ]\n",
    "    ),\n",
    "]"
   ]
  },
  {
   "cell_type": "code",
   "execution_count": 75,
   "id": "18bec80a",
   "metadata": {},
   "outputs": [],
   "source": [
    "tab_pages = [\n",
    "    dcc.Tab(label=\"Multi-fonctio\", children=multi_fonction),\n",
    "    dcc.Tab(label=\"Gestion de l'eau\", children=gestion_eau),\n",
    "    dcc.Tab(label=\"Inventaire\", children=inventaire),\n",
    "]\n",
    "children = html.Div([dcc.Tabs(id=\"tabs\", children=tab_pages)])"
   ]
  },
  {
   "cell_type": "code",
   "execution_count": 76,
   "id": "e3f4e91a",
   "metadata": {},
   "outputs": [],
   "source": [
    "app.layout = children"
   ]
  },
  {
   "cell_type": "code",
   "execution_count": 77,
   "id": "1ae199d8",
   "metadata": {},
   "outputs": [
    {
     "name": "stdout",
     "output_type": "stream",
     "text": [
      "Dash app running on http://127.0.0.1:8000/\n"
     ]
    }
   ],
   "source": [
    "app.run(jupyter_mode=\"external\", port=8000)"
   ]
  }
 ],
 "metadata": {
  "kernelspec": {
   "display_name": "bisses",
   "language": "python",
   "name": "python3"
  },
  "language_info": {
   "codemirror_mode": {
    "name": "ipython",
    "version": 3
   },
   "file_extension": ".py",
   "mimetype": "text/x-python",
   "name": "python",
   "nbconvert_exporter": "python",
   "pygments_lexer": "ipython3",
   "version": "3.11.9"
  }
 },
 "nbformat": 4,
 "nbformat_minor": 5
}
