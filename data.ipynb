{
 "cells": [
  {
   "cell_type": "code",
   "execution_count": 6,
   "id": "892e165b",
   "metadata": {},
   "outputs": [],
   "source": [
    "import os\n",
    "from glob import glob\n",
    "from pathlib import Path\n",
    "\n",
    "import geopandas as gpd\n",
    "import numpy as np\n",
    "import pandas as pd\n",
    "import matplotlib.pyplot as plt\n",
    "\n",
    "import json\n",
    "\n",
    "from IPython.display import display"
   ]
  },
  {
   "cell_type": "code",
   "execution_count": 7,
   "id": "b1650ba8",
   "metadata": {},
   "outputs": [],
   "source": [
    "import src.elevation as elevation\n",
    "import src.clean as clean\n",
    "import src.plot as plot"
   ]
  },
  {
   "cell_type": "code",
   "execution_count": 8,
   "id": "b47c4cd5",
   "metadata": {},
   "outputs": [
    {
     "name": "stdout",
     "output_type": "stream",
     "text": [
      "data\\bisses\n",
      "{'clavau': 'data\\\\bisses\\\\clavau\\\\clavau.json', 'plot': 'data\\\\bisses\\\\clavau\\\\touristique\\\\plot.json'}\n"
     ]
    }
   ],
   "source": [
    "# Paths\n",
    "shapefile_bisse = os.path.join(\"data\", \"bisses_geodata\", \"bisses.shp\")\n",
    "dem_folder = os.path.join(\"data\", \"DEM\")  # Folder containing multiple DEM files\n",
    "data = \"data\"\n",
    "\n",
    "# ! read from json file\n",
    "# path of file from field results\n",
    "PATH = os.path.join(data, \"bisses\")\n",
    "print(PATH)\n",
    "# get all json of bisse\n",
    "folders = [f.path for f in os.scandir(PATH) if f.is_dir()]\n",
    "files = [y for x in os.walk(PATH) for y in glob(os.path.join(x[0], \"*.json\"))]\n",
    "filenames = [Path(path).stem for path in files]\n",
    "\n",
    "# ! check if file is missing for a folder\n",
    "# all bisse where data has been collected in a json\n",
    "bisses_dict = dict(zip(filenames, files))\n",
    "print(bisses_dict)\n",
    "# this is the variable the interface will change\n",
    "bisse_select = \"clavau\"\n",
    "\n",
    "# json holding the info for that specific bisse\n",
    "# ie path, sample dir, date, ect...\n",
    "with open(bisses_dict[bisse_select], \"r\") as file:\n",
    "    bisse_json = json.load(file)\n",
    "\n",
    "# json holding info for each entry that is common to all bisses\n",
    "with open(os.path.join(data, \"_template\", \"donnees.json\"), \"r\") as file:\n",
    "    generic_json = json.load(file)\n",
    "clean.generic_json = generic_json\n",
    "\n",
    "# display(bisse_json)\n",
    "# bisse_json = bisses_json[bisse_select]"
   ]
  },
  {
   "cell_type": "code",
   "execution_count": 9,
   "id": "b33d4183",
   "metadata": {},
   "outputs": [],
   "source": [
    "# Load the line shapefile\n",
    "bisses_gdf = gpd.read_file(shapefile_bisse).to_crs(\"EPSG:2056\")  # to swiss projection\n",
    "\n",
    "# get only the bisse we want\n",
    "bisse_select_gdf = bisses_gdf[bisses_gdf[\"Nom_bisse\"] == bisse_json[\"nom_inventaire\"]]\n",
    "# extract the linestring\n",
    "bisse_line = bisse_select_gdf.loc[:, \"geometry\"].iloc[0]\n",
    "\n",
    "bisse_profile = elevation.get_elevation_profile(bisse_line, dem_folder=dem_folder)"
   ]
  },
  {
   "cell_type": "markdown",
   "id": "e8149115",
   "metadata": {},
   "source": [
    "# cleaning data referenced in json"
   ]
  },
  {
   "cell_type": "code",
   "execution_count": 10,
   "id": "ea752e7d",
   "metadata": {},
   "outputs": [
    {
     "name": "stderr",
     "output_type": "stream",
     "text": [
      "d:\\Programme\\miniconda3\\envs\\bisses\\Lib\\site-packages\\pyogrio\\raw.py:198: UserWarning: Measured (M) geometry types are not supported. Original type 'PointM' is converted to 'Point'\n",
      "  return ogr_read(\n"
     ]
    }
   ],
   "source": [
    "path_clavau = os.path.normpath(\"data/bisses/clavau\")\n",
    "\n",
    "# #! need to do that for all couches\n",
    "clean.clean_list_json(\n",
    "    bisse_json,\n",
    "    \"liste_touristique\",\n",
    "    bisse_line,\n",
    "    \"data/bisses/clavau/touristique\",\n",
    ")\n",
    "clean.clean_list_json(\n",
    "    bisse_json,\n",
    "    \"liste_environnement\",\n",
    "    bisse_line,\n",
    "    \"data/bisses/clavau/environnement\",\n",
    ")\n",
    "\n",
    "clean.clean_list_json(\n",
    "    bisse_json,\n",
    "    \"liste_agricole\",\n",
    "    bisse_line,\n",
    "    \"data/bisses/clavau/agricole\",\n",
    ")\n",
    "\n",
    "clean.clean_list_json(\n",
    "    bisse_json,\n",
    "    \"liste_hydrologique\",\n",
    "    bisse_line,\n",
    "    \"data/bisses/clavau/hydrologique\",\n",
    ")"
   ]
  }
 ],
 "metadata": {
  "kernelspec": {
   "display_name": "bisses",
   "language": "python",
   "name": "python3"
  },
  "language_info": {
   "codemirror_mode": {
    "name": "ipython",
    "version": 3
   },
   "file_extension": ".py",
   "mimetype": "text/x-python",
   "name": "python",
   "nbconvert_exporter": "python",
   "pygments_lexer": "ipython3",
   "version": "3.11.9"
  }
 },
 "nbformat": 4,
 "nbformat_minor": 5
}
